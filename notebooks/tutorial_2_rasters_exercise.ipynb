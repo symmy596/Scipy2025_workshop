{
 "cells": [
  {
   "cell_type": "code",
   "execution_count": null,
   "metadata": {},
   "outputs": [],
   "source": [
    "import rasterio\n",
    "import numpy as np\n",
    "\n",
    "# Data Source - https://github.com/globalmaps/gm_ve_v1\n",
    "forests_file = rasterio.open('../resources/data/downsampled_forest.tif')\n",
    "forests = forests_file.read()\n",
    "\n",
    "print(np.amin(forests))\n",
    "print(np.amax(forests))\n",
    "print(len(np.unique(forests)))"
   ]
  },
  {
   "cell_type": "code",
   "execution_count": null,
   "metadata": {},
   "outputs": [],
   "source": [
    "from rasterio.plot import show\n",
    "import matplotlib.pyplot as plt\n",
    "\n",
    "show(forests, cmap='Greens')"
   ]
  },
  {
   "cell_type": "code",
   "execution_count": null,
   "metadata": {},
   "outputs": [],
   "source": [
    "from matplotlib.colors import ListedColormap, LinearSegmentedColormap, BoundaryNorm\n",
    "from matplotlib import cm\n",
    "\n",
    "greens = cm.get_cmap('Greens', 100)\n",
    "newcolors = greens(np.linspace(0, 1, 100))\n",
    "background_colour = np.array([0.0, 0.0, 0.0, 0.0])\n",
    "newcolors[:1, :] = background_colour\n",
    "newcmp_forests = ListedColormap(newcolors)\n",
    "\n",
    "bounds = np.arange(100)\n",
    "norm_forests = BoundaryNorm(bounds, newcmp_forests.N)"
   ]
  },
  {
   "cell_type": "code",
   "execution_count": null,
   "metadata": {},
   "outputs": [],
   "source": [
    "show(forests, ax=ax, cmap=newcmp_forests, norm=norm_forests)"
   ]
  },
  {
   "cell_type": "code",
   "execution_count": null,
   "metadata": {},
   "outputs": [],
   "source": [
    "import rioxarray as rxr\n",
    "from rasterio.crs import CRS\n",
    "import numpy as np\n",
    "\n",
    "# Load raster and squeeze singleton dimensions\n",
    "forests_file_rxa = rxr.open_rasterio('../resources/data/downsampled_forest.tif', masked=True).squeeze()\n",
    "\n",
    "print(\"Original projection: \", forests_file_rxa.rio.crs)\n",
    "\n",
    "# Reproject to new CRS\n",
    "forests = forests_file_rxa.rio.reproject(CRS.from_string('+proj=robin'))\n",
    "\n",
    "print(\"New projection: \", forests.rio.crs)\n",
    "\n",
    "# Convert to NumPy array\n",
    "forests_np = forests.to_numpy()\n",
    "\n",
    "# Mask nodata values and set them to zero\n",
    "nodata_value = np.finfo(np.float32).max  # 3.4028235e+38\n",
    "forests_np[forests_np == nodata_value] = 0"
   ]
  },
  {
   "cell_type": "markdown",
   "metadata": {},
   "source": [
    "## Exercise\n",
    "\n",
    "- Plot the reprojected raster\n",
    "- Pick a new - interesting projection and reproject your raster to that. \n",
    "\n",
    "<img src=\"../resources/forests_rob.png\">"
   ]
  },
  {
   "cell_type": "code",
   "execution_count": null,
   "metadata": {},
   "outputs": [],
   "source": [
    "import geopandas as gpd\n",
    "import pandas as pd\n",
    "\n",
    "# Data source - https://github.com/nvkelso/natural-earth-vector/blob/master/10m_cultural/ne_10m_admin_0_countries.shp\n",
    "df = gpd.read_file('../resources/data/ne_10m_admin_0_countries.shp')\n",
    "\n",
    "brazil = df.loc[df['ADMIN'] == 'Brazil']\n",
    "brazil.plot()"
   ]
  },
  {
   "cell_type": "code",
   "execution_count": null,
   "metadata": {},
   "outputs": [],
   "source": [
    "import rasterio\n",
    "from rasterio import mask as msk \n",
    "from shapely.geometry import mapping\n",
    "\n",
    "clipped_array, clipped_transform = rasterio.mask.mask(forests_file, [mapping(geom) for geom in (brazil.geometry.tolist())], \n",
    "                                                      crop=True, nodata=0)"
   ]
  },
  {
   "cell_type": "markdown",
   "metadata": {},
   "source": [
    "## Exercise \n",
    "\n",
    "- Plot the forests map of Brazil. \n",
    "- Use the topography dataset - ../resources/downsampled_topography.tif and generate a topography map of a country."
   ]
  },
  {
   "cell_type": "code",
   "execution_count": null,
   "metadata": {},
   "outputs": [],
   "source": [
    "from rasterio.io import MemoryFile\n",
    "\n",
    "memfile = MemoryFile()\n",
    "dataset = memfile.open(driver='GTiff', height=clipped_array.shape[1], width=clipped_array.shape[2], \n",
    "                       count=1, crs=forests_file.crs, \n",
    "                       transform=clipped_transform, dtype=clipped_array.dtype)\n",
    "dataset.write(clipped_array[0], 1)"
   ]
  },
  {
   "cell_type": "code",
   "execution_count": null,
   "metadata": {},
   "outputs": [],
   "source": [
    "from rasterio.enums import Resampling\n",
    "from rasterio.warp import calculate_default_transform, reproject\n",
    "\n",
    "# Define the destination CRS - Mercator projection\n",
    "dst_crs = 'EPSG:3395'\n",
    "\n",
    "# Calculate the transform and dimensions for the new projection\n",
    "transform, width, height = calculate_default_transform(dataset.crs, dst_crs, dataset.width, dataset.height, *dataset.bounds)\n",
    "\n",
    "# Create a destination numpy array\n",
    "dst_array = np.empty((height, width), dtype=clipped_array.dtype)\n",
    "\n",
    "# Perform the reprojection\n",
    "reproject(\n",
    "    source=rasterio.band(dataset, 1),\n",
    "    destination=dst_array,\n",
    "    src_transform=dataset.transform,\n",
    "    src_crs=dataset.crs,\n",
    "    dst_transform=transform,\n",
    "    dst_crs=dst_crs,\n",
    "    resampling=Resampling.nearest\n",
    ")"
   ]
  },
  {
   "cell_type": "code",
   "execution_count": null,
   "metadata": {},
   "outputs": [],
   "source": [
    "show(dst_array, transform=transform, cmap=newcmp_forests, norm=norm_forests)"
   ]
  },
  {
   "cell_type": "code",
   "execution_count": null,
   "metadata": {},
   "outputs": [],
   "source": [
    "# Plot raster\n",
    "fig, (ax1, ax2) = plt.subplots(nrows=1, ncols=2, figsize=(10, 4))\n",
    "\n",
    "show(clipped_array, ax=ax1, transform=clipped_transform, cmap=newcmp_forests, norm=norm_forests)\n",
    "\n",
    "show(dst_array, ax=ax2, transform=transform, cmap=newcmp_forests, norm=norm_forests)\n",
    "\n",
    "plt.show()"
   ]
  },
  {
   "cell_type": "markdown",
   "metadata": {},
   "source": [
    "## Exercise \n",
    "\n",
    "- Plot both the rivers from the previous exercise and forests from this exercise on the same map. \n",
    "- Try out different projections - but make sure all datasets have the same projection."
   ]
  },
  {
   "cell_type": "code",
   "execution_count": null,
   "metadata": {},
   "outputs": [],
   "source": []
  }
 ],
 "metadata": {
  "kernelspec": {
   "display_name": "Python 3 (ipykernel)",
   "language": "python",
   "name": "python3"
  },
  "language_info": {
   "codemirror_mode": {
    "name": "ipython",
    "version": 3
   },
   "file_extension": ".py",
   "mimetype": "text/x-python",
   "name": "python",
   "nbconvert_exporter": "python",
   "pygments_lexer": "ipython3",
   "version": "3.8.13"
  }
 },
 "nbformat": 4,
 "nbformat_minor": 4
}
