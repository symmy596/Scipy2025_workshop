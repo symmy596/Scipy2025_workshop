{
 "cells": [
  {
   "cell_type": "code",
   "execution_count": null,
   "id": "b44a0cd2",
   "metadata": {},
   "outputs": [],
   "source": [
    "import geopandas as gpd\n",
    "\n",
    "# Data source - https://www.hydrosheds.org/products/hydrorivers\n",
    "samerica_rivers = gpd.read_parquet(\"../resources/data/rivers.parquet.gzip\")"
   ]
  },
  {
   "cell_type": "code",
   "execution_count": null,
   "id": "5fd6240a",
   "metadata": {},
   "outputs": [],
   "source": [
    "samerica_rivers.plot(color='blue', lw=0.1)"
   ]
  },
  {
   "cell_type": "code",
   "execution_count": null,
   "id": "c8b948cb",
   "metadata": {},
   "outputs": [],
   "source": [
    "import pandas as pd\n",
    "import numpy as np\n",
    "\n",
    "leftSpan = np.amax(samerica_rivers['DIST_UP_KM']) - np.amin(samerica_rivers['DIST_UP_KM'])\n",
    "rightSpan = 1 - 0.1\n",
    "valueScaled = (samerica_rivers['DIST_UP_KM'] - np.amin(samerica_rivers['DIST_UP_KM'])) / leftSpan\n",
    "samerica_rivers['LW_DIST_UP_KM'] = 0.04 + (valueScaled * rightSpan)"
   ]
  },
  {
   "cell_type": "code",
   "execution_count": null,
   "id": "2b67e854",
   "metadata": {},
   "outputs": [],
   "source": [
    "samerica_rivers.plot(edgecolor='face', color='blue', lw=samerica_rivers['LW_DIST_UP_KM'])"
   ]
  },
  {
   "cell_type": "code",
   "execution_count": null,
   "id": "596f696e",
   "metadata": {},
   "outputs": [],
   "source": [
    "import geopandas as gpd\n",
    "\n",
    "# Data source - https://www.hydrosheds.org/products/hydrobasins\n",
    "basins = gpd.read_file(\"../resources/data/hydrobasins_southam.shp\")\n",
    "print(basins.head())"
   ]
  },
  {
   "cell_type": "markdown",
   "id": "951afd20",
   "metadata": {},
   "source": [
    "## Exercise \n",
    "\n",
    "- Generate a map of South American river basins\n",
    "- Break it down into both major and sub basins\n",
    "\n",
    "<img src=\"../resources/assets/basins.png\">"
   ]
  },
  {
   "cell_type": "code",
   "execution_count": null,
   "id": "f1a670de",
   "metadata": {},
   "outputs": [],
   "source": [
    "import pandas as pd\n",
    "\n",
    "colours_i_like = ['black', 'blue', '#808000', '#483d8b', '#dc143c',\n",
    "                  '#000080', 'green', '#8b008b', '#ff4500', '#ffa500', '#008856', \n",
    "                  '#882D17', '#228B22', '#3cb371', '#875692', '#2f4f4f', '#0000ff',\n",
    "                  '#ff00ff', '#1e90ff', '#db7093', '#ff1493', 'darkgreen', \n",
    "                  '#ee82ee', '#A1CAF1', 'orange']\n",
    "\n",
    "colors_df = pd.DataFrame({'basin': basins.MAJ_NAME.unique().tolist(), 'colors': colours_i_like})\n",
    "\n",
    "basins = pd.merge(basins, colors_df, left_on='MAJ_NAME', right_on='basin', how='left')\n"
   ]
  },
  {
   "cell_type": "code",
   "execution_count": null,
   "id": "427b10fe",
   "metadata": {},
   "outputs": [],
   "source": [
    "basins.plot(column='MAJ_NAME', edgecolor='face', color=basins['colors'])"
   ]
  },
  {
   "cell_type": "markdown",
   "id": "d4416403",
   "metadata": {},
   "source": [
    "## Exercise \n",
    "\n",
    "- Plot a map with both rivers and basins.\n",
    "- Merge the two dataframes into one and plot the rivers, colouring them according to their basin\n",
    "\n",
    "<img src=\"../resources/assets/brazil_river_basins.png\">"
   ]
  }
 ],
 "metadata": {
  "kernelspec": {
   "display_name": "Python 3 (ipykernel)",
   "language": "python",
   "name": "python3"
  },
  "language_info": {
   "codemirror_mode": {
    "name": "ipython",
    "version": 3
   },
   "file_extension": ".py",
   "mimetype": "text/x-python",
   "name": "python",
   "nbconvert_exporter": "python",
   "pygments_lexer": "ipython3",
   "version": "3.8.13"
  }
 },
 "nbformat": 4,
 "nbformat_minor": 5
}
