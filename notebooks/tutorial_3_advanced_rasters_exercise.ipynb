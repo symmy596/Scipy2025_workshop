{
 "cells": [
  {
   "cell_type": "code",
   "execution_count": null,
   "id": "b8e0203b",
   "metadata": {},
   "outputs": [],
   "source": [
    "import geopandas as gpd\n",
    "import pandas as pd\n",
    "\n",
    "# Data source - https://github.com/nvkelso/natural-earth-vector/blob/master/10m_cultural/ne_10m_admin_0_countries.shp\n",
    "df = gpd.read_file('../resources/data/ne_10m_admin_0_countries.shp')\n",
    "\n",
    "brazil = df.loc[df['ADMIN'] == 'Brazil']\n",
    "brazil.plot()"
   ]
  },
  {
   "cell_type": "code",
   "execution_count": null,
   "id": "649e00e7",
   "metadata": {},
   "outputs": [],
   "source": [
    "import rasterio\n",
    "\n",
    "topography_file = rasterio.open('../resources/data/ETOPO1_Bed_g_geotiff.tif')"
   ]
  },
  {
   "cell_type": "code",
   "execution_count": null,
   "id": "b6d85a3b",
   "metadata": {},
   "outputs": [],
   "source": [
    "from rasterio import mask as msk \n",
    "from shapely.geometry import mapping\n",
    "\n",
    "clipped_array, clipped_transform = rasterio.mask.mask(topography_file, [mapping(geom) for geom in (brazil.geometry.tolist())], \n",
    "                                                      crop=True, nodata=0)"
   ]
  },
  {
   "cell_type": "code",
   "execution_count": null,
   "id": "1899d7f6",
   "metadata": {},
   "outputs": [],
   "source": [
    "import numpy as np\n",
    "\n",
    "print(np.amin(clipped_array))\n",
    "print(np.amax(clipped_array))"
   ]
  },
  {
   "cell_type": "code",
   "execution_count": null,
   "id": "f5ebc2be",
   "metadata": {},
   "outputs": [],
   "source": [
    "clipped_array, clipped_transform = rasterio.mask.mask(topography_file, [mapping(geom) for geom in (brazil.geometry.tolist())], \n",
    "                                                      crop=True, nodata=-28)"
   ]
  },
  {
   "cell_type": "code",
   "execution_count": null,
   "id": "3a22f5be",
   "metadata": {},
   "outputs": [],
   "source": [
    "from matplotlib.colors import ListedColormap, LinearSegmentedColormap, BoundaryNorm\n",
    "from matplotlib import cm\n",
    "import matplotlib.pyplot as plt\n",
    "\n",
    "colors_land = plt.cm.terrain(np.linspace(0.25, 1, 2002))\n",
    "background_colour = np.array([0.0, 0.0, 0.0, 0.0])\n",
    "colors_land[:1, :] = background_colour\n",
    "newcmp_topo = ListedColormap(colors_land)\n",
    "\n",
    "bounds = np.arange(-28, 1975, 1)\n",
    "norm_topo = BoundaryNorm(bounds, newcmp_topo.N)"
   ]
  },
  {
   "cell_type": "code",
   "execution_count": null,
   "id": "d70b4c47",
   "metadata": {},
   "outputs": [],
   "source": [
    "rows, cols = clipped_array[0].shape\n",
    "col_indices, row_indices = np.meshgrid(np.arange(cols), np.arange(rows))\n",
    "\n",
    "# Calculate the real-world coordinates\n",
    "xs, ys = rasterio.transform.xy(clipped_transform, row_indices.flatten(), col_indices.flatten())\n",
    "\n",
    "# Create a DataFrame\n",
    "df = pd.DataFrame({\n",
    "    'X': xs,\n",
    "    'Y': ys,\n",
    "    'Value': clipped_array[0].flatten()\n",
    "})\n",
    "\n",
    "# Convert to a GeoDataFrame\n",
    "gdf = gpd.GeoDataFrame(df, geometry=gpd.points_from_xy(df.X, df.Y))\n",
    "\n",
    "print(gdf)"
   ]
  },
  {
   "cell_type": "code",
   "execution_count": null,
   "id": "218f950c",
   "metadata": {},
   "outputs": [],
   "source": [
    "gdf.plot(column='Value', s=2, cmap=newcmp_topo, norm=norm_topo, edgecolors='none')"
   ]
  },
  {
   "cell_type": "code",
   "execution_count": null,
   "id": "33055be5",
   "metadata": {},
   "outputs": [],
   "source": [
    "import numpy as np\n",
    "from osgeo import gdal, ogr\n",
    "from osgeo import osr\n",
    "from rasterio.transform import from_origin\n",
    "\n",
    "gdal_transform = (clipped_transform.c, clipped_transform.a, clipped_transform.b,\n",
    "                  clipped_transform.f, clipped_transform.d, clipped_transform.e)\n",
    "\n",
    "# Create an in-memory raster\n",
    "mem_drv_raster = gdal.GetDriverByName('MEM')\n",
    "mem_raster = mem_drv_raster.Create('', clipped_array[0].shape[1], clipped_array[0].shape[0], 1, gdal.GDT_Int32)\n",
    "\n",
    "# Set the geotransform\n",
    "mem_raster.SetGeoTransform(gdal_transform)\n",
    "\n",
    "# Write the data\n",
    "mem_raster.GetRasterBand(1).WriteArray(clipped_array[0])\n",
    "\n",
    "# Create an in-memory vector layer\n",
    "mem_drv_vector = ogr.GetDriverByName('Memory')\n",
    "mem_vector = mem_drv_vector.CreateDataSource('out')\n",
    "mem_layer = mem_vector.CreateLayer('polygonized_raster', geom_type=ogr.wkbPolygon)\n",
    "\n",
    "# Add a new field to store raster values\n",
    "new_field = ogr.FieldDefn('DN', ogr.OFTInteger)\n",
    "mem_layer.CreateField(new_field)\n",
    "\n",
    "# Polygonize the raster to the in-memory vector layer\n",
    "gdal.Polygonize(mem_raster.GetRasterBand(1), None, mem_layer, 0, [], callback=None)\n"
   ]
  },
  {
   "cell_type": "code",
   "execution_count": null,
   "id": "d157d18c",
   "metadata": {},
   "outputs": [],
   "source": [
    "from shapely.geometry import Polygon\n",
    "\n",
    "geoms = []\n",
    "vals = []\n",
    "\n",
    "# Access the polygons\n",
    "for feature in mem_layer:\n",
    "    geom = feature.GetGeometryRef()\n",
    "    \n",
    "    # Extract the coordinates from the geometry\n",
    "    ring = geom.GetGeometryRef(0)\n",
    "    coordinates = []\n",
    "    for i in range(ring.GetPointCount()):\n",
    "        x, y = ring.GetX(i), ring.GetY(i)\n",
    "        coordinates.append((x, y))\n",
    "        \n",
    "    geoms.append(Polygon(coordinates))\n",
    "    vals.append(feature.GetField('DN'))\n",
    "\n",
    "gdf = gpd.GeoDataFrame(pd.DataFrame({'vals': vals}), crs='EPSG:4326', geometry=geoms)\n",
    "\n",
    "print(gdf)"
   ]
  },
  {
   "cell_type": "code",
   "execution_count": null,
   "id": "5bb0b3b1",
   "metadata": {},
   "outputs": [],
   "source": [
    "gdf.plot(column='vals', cmap=newcmp_topo, norm=norm_topo)"
   ]
  },
  {
   "cell_type": "code",
   "execution_count": null,
   "id": "497c9f85",
   "metadata": {},
   "outputs": [],
   "source": [
    "from osgeo import ogr\n",
    "\n",
    "\n",
    "# Generate contours directly in memory\n",
    "mem_ds = ogr.GetDriverByName('Memory').CreateDataSource('out')\n",
    "contour_lyr = mem_ds.CreateLayer('contour', geom_type=ogr.wkbLineString25D)\n",
    "\n",
    "# Define fields of id and elev\n",
    "field_def = ogr.FieldDefn(\"ID\", ogr.OFTInteger)\n",
    "contour_lyr.CreateField(field_def)\n",
    "field_def = ogr.FieldDefn(\"elev\", ogr.OFTReal)\n",
    "contour_lyr.CreateField(field_def)\n",
    "\n",
    "# Generate contours\n",
    "gdal.ContourGenerate(mem_raster.GetRasterBand(1), 50, -11, [], 0, 0, contour_lyr, 0, 1)\n",
    "\n",
    "gdal.Unlink('/vsimem/temp.vrt')\n",
    "gdal.Unlink('/vsimem/mosaic.tif')"
   ]
  },
  {
   "cell_type": "code",
   "execution_count": null,
   "id": "50c6208d",
   "metadata": {},
   "outputs": [],
   "source": [
    "from shapely.geometry import LineString\n",
    "\n",
    "lines = [LineString(np.array(contour.GetGeometryRef().GetPoints())) for contour in contour_lyr]\n",
    "elev = [contour.GetField('elev') for contour in contour_lyr]\n",
    "gdf = gpd.GeoDataFrame(pd.DataFrame({'elev': elev}), crs=\"EPSG:4326\", geometry=lines)\n",
    "print(gdf)"
   ]
  },
  {
   "cell_type": "code",
   "execution_count": null,
   "id": "9bcf9ba3",
   "metadata": {},
   "outputs": [],
   "source": [
    "gdf.plot(lw=0.1, column='elev', cmap=newcmp_topo, norm=norm_topo)"
   ]
  },
  {
   "cell_type": "code",
   "execution_count": null,
   "id": "72c9c9c1",
   "metadata": {},
   "outputs": [],
   "source": [
    "from rasterio.plot import show\n",
    "\n",
    "\n",
    "fig, ax = plt.subplots()\n",
    "fig.set_size_inches(7, 7)\n",
    "\n",
    "show(clipped_array, ax=ax, transform=clipped_transform, cmap=newcmp_topo, norm=norm_topo)\n",
    "gdf.plot(lw=0.05, ax=ax, column='elev', color='black')\n",
    "plt.show()"
   ]
  },
  {
   "cell_type": "markdown",
   "id": "363767de",
   "metadata": {},
   "source": [
    "## Exercise\n",
    "\n",
    "- Combine everything you have learned into a single map. Generate an OS style map of topography, rivers and forests by combining all of the data layers into one map.\n",
    "\n",
    "<img src=\"../resources/assets/river_topography.png\">\n"
   ]
  }
 ],
 "metadata": {
  "kernelspec": {
   "display_name": "Python 3 (ipykernel)",
   "language": "python",
   "name": "python3"
  },
  "language_info": {
   "codemirror_mode": {
    "name": "ipython",
    "version": 3
   },
   "file_extension": ".py",
   "mimetype": "text/x-python",
   "name": "python",
   "nbconvert_exporter": "python",
   "pygments_lexer": "ipython3",
   "version": "3.8.13"
  }
 },
 "nbformat": 4,
 "nbformat_minor": 5
}
