{
 "cells": [
  {
   "cell_type": "markdown",
   "id": "f1655b27",
   "metadata": {
    "slideshow": {
     "slide_type": "slide"
    }
   },
   "source": [
    "## Creating Beautiful Geospatial Data Visualisations with Python\n",
    "\n",
    "### By Dr. Adam Symington (PythonMaps)"
   ]
  },
  {
   "cell_type": "markdown",
   "id": "902c8ef5",
   "metadata": {
    "slideshow": {
     "slide_type": "-"
    }
   },
   "source": [
    "![alt text](../resources/assets/shapping_lanes_dark.png \"Title\")"
   ]
  },
  {
   "cell_type": "markdown",
   "id": "8676dab9",
   "metadata": {
    "slideshow": {
     "slide_type": "slide"
    }
   },
   "source": [
    "![alt text](../resources/assets/past.png \"Title\")"
   ]
  },
  {
   "cell_type": "markdown",
   "id": "9a8f9b0b",
   "metadata": {
    "slideshow": {
     "slide_type": "slide"
    }
   },
   "source": [
    "## Download Tutorial Materials\n",
    "\n",
    "This GitHub repository is all that is needed in terms of tutorial content. The simplest solution is to download the material using this link:\n",
    "\n",
    "https://github.com/symmy596/Scipy2025/archive/refs/heads/main.zip\n",
    "\n",
    "If you are familiar with Git, you can also clone this repository with:\n",
    "\n",
    "```\n",
    "$ git clone https://github.com/symmy596/Scipy2025.git\n",
    "```\n",
    "\n",
    "It will create a new folder named `Scipy2025` with all the content you will need.\n",
    "\n",
    "There are a number of datasets required for these tutorials. These will need to all be downloaded prior to the tutorial and placed in the resources folder.\n"
   ]
  },
  {
   "cell_type": "markdown",
   "id": "779c0133",
   "metadata": {
    "slideshow": {
     "slide_type": "slide"
    }
   },
   "source": [
    "## Required Data Sources\n",
    "\n",
    "#### Tutorial 1 Vector Data\n",
    "\n",
    "- [Hydrorivers](https://www.hydrosheds.org/products/hydrorivers)\n",
    "- [Hydrobasins](https://www.hydrosheds.org/products/hydrobasins)\n",
    "- [Natural Earth Country Boundaries](https://github.com/nvkelso/natural-earth-vector/blob/master/10m_cultural/ne_10m_admin_0_countries.shps)\n",
    "\n",
    "#### Tutorial 2 Raster\n",
    "\n",
    "- [Forests](https://github.com/globalmaps/gm_ve_v1)\n",
    "- [Natural Earth Country Boundaries](https://github.com/nvkelso/natural-earth-vector/blob/master/10m_cultural/ne_10m_admin_0_countries.shps)\n",
    "\n",
    "#### Tutorial 3 Advanced Rasters\n",
    "\n",
    "- [Topography](https://www.ngdc.noaa.gov/mgg/global/relief/ETOPO1/data/bedrock/grid_registered/georeferenced_tiff/)\n",
    "- [Natural Earth Country Boundaries](https://github.com/nvkelso/natural-earth-vector/blob/master/10m_cultural/ne_10m_admin_0_countries.shps)\n",
    "\n"
   ]
  },
  {
   "cell_type": "markdown",
   "id": "c051c38e",
   "metadata": {
    "slideshow": {
     "slide_type": "slide"
    }
   },
   "source": [
    "### Libraries\n",
    "\n",
    "The following libraries are required to run the workshop\n",
    "\n",
    "- geopandas==0.10.2\n",
    "- pandas==1.4.2\n",
    "- numpy==1.21.5\n",
    "- shapely==1.8.0\n",
    "- matplotlib==3.5.1\n",
    "- cartopy==0.20.2\n",
    "- rasterio==1.2.10\n",
    "- rioxarray==0.11.1\n",
    "- gdal==3.5.2\n"
   ]
  },
  {
   "cell_type": "markdown",
   "id": "13d43ccd",
   "metadata": {
    "slideshow": {
     "slide_type": "slide"
    }
   },
   "source": [
    "#### Tutorial One - Vector Data\n",
    "\n",
    "This task will involve reading, manipulating, and plotting linestring and polygon data. There will be a brief introduction on the task at hand and a run through of the tutorial as well as a brief discussion around the finer points of data visualisation. \n",
    "\n",
    "Attendees will use the hydrosheds rivers dataset to plot rivers and river basins of countries and/or continents (the example uses Brazil). \n",
    "\n",
    "##### Learning Outcomes\n",
    "- Read common vector formats (Shapefile, GeoJSON, GeoPackage) in GeoPandas.\n",
    "- Understand how to manipulate vector data, e.g. spatial joins\n",
    "- Understand how to plot vector data with GeoPandas.\n",
    "- Apply cartographic styling (colour, linewidth) based on attribute data.\n",
    "\n",
    "\n",
    "![alt text](../resources/assets/brazil_river_basins.png \"Title\")"
   ]
  },
  {
   "cell_type": "markdown",
   "id": "cbebc2e5",
   "metadata": {
    "slideshow": {
     "slide_type": "slide"
    }
   },
   "source": [
    "#### Tutorial Two - Raster Data\n",
    "\n",
    "There will be a brief itorduction on raster data using a forest geotiff dataset. We will cover the main features for working with raster, namely, plotting, reprojecting, masking and combining them with vector data.\n",
    "\n",
    "In the tutorial you will generate a map of the world's forests and you will reproject this using rioxarray. You will then mask it to generate map of a specific country. Finally, you will combine it with the rivers dataset from the previous tutorial to make a river/forest map. \n",
    "\n",
    "##### Learning outcomes:\n",
    "- Understand how to read and manipulate raster data with Rasterio and rioxarray. \n",
    "- Understand how to plot raster data with Rasterio and Matplotlib\n",
    "- Understand how to reproject raster data with rioxarray. \n",
    "\n",
    "![alt text](../resources/assets/forests_rob.png \"Title\")"
   ]
  },
  {
   "cell_type": "markdown",
   "id": "9f5e83f4",
   "metadata": {
    "slideshow": {
     "slide_type": "slide"
    }
   },
   "source": [
    "#### Advanced Rasters\n",
    "\n",
    "Time dependent. We have explored both vector data and raster data. In this exercise we will convert rasters into Points, Linestrings and Polygons using rasterio and GDAL.\n",
    "\n",
    "In the tutorial you will convert a topography raster into a geodataframe of points, with each elevation value. You will convert a raster into a contour map, with Linestrings for each elevation value. Finally, you guessed it, you will convert a raster into a geodataframe with Polygons for each elevation value. \n",
    "\n",
    "We will end by trying to combine all of the tutorials into one to create something that starts to look like proper map. \n",
    "\n",
    "##### Learning outcomes:\n",
    "- Understand how to convert a raster to Points with rasterio and Geopandas\n",
    "- Understand how to convert a raster to Linestrings with GDAL\n",
    "- Understand how to convert a raster to Polygons with GDAL\n",
    "\n",
    "![alt text](../resources/assets/river_topography.png \"Title\")"
   ]
  }
 ],
 "metadata": {
  "celltoolbar": "Slideshow",
  "kernelspec": {
   "display_name": "Python 3 (ipykernel)",
   "language": "python",
   "name": "python3"
  },
  "language_info": {
   "codemirror_mode": {
    "name": "ipython",
    "version": 3
   },
   "file_extension": ".py",
   "mimetype": "text/x-python",
   "name": "python",
   "nbconvert_exporter": "python",
   "pygments_lexer": "ipython3",
   "version": "3.8.13"
  }
 },
 "nbformat": 4,
 "nbformat_minor": 5
}
